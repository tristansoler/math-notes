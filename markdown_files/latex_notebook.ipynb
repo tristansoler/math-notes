{
 "cells": [
  {
   "cell_type": "markdown",
   "metadata": {},
   "source": [
    "# LaTeX Math 101\n",
    "\n",
    "| Idea                    | Write                                                 | Renders as                    |\n",
    "| ----------------------- | ----------------------------------------------------- | ----------------------------- |\n",
    "| Superscript / Subscript | `$x^{2}$`, `$a_{ij}$`                                 | $x^{2}$, $a_{ij}$             |\n",
    "| Fractions / Binomials   | `$\\frac{a}{b}$`, `$\\binom{n}{k}$`                     | $\\frac{a}{b}$, $\\binom{n}{k}$ |\n",
    "| Greek letters           | `$\\alpha,\\beta,\\Gamma$`                               | $\\alpha,\\beta,\\Gamma$         |\n",
    "| Roots                   | `$\\sqrt{2}$`, `$\\sqrt[n]{x}$`                         | $\\sqrt{2},\\sqrt[n]{x}$        |\n",
    "| Functions (upright)     | `$\\sin x,\\; \\ln y$`                                   | $\\sin x, \\ln y$               |\n",
    "| Spacing                 | `\\, \\; \\quad`                                         | small → big                   |\n",
    "| Text inside math        | `$\\text{if } x>0$`                                    | “if $x>0$”                    |\n",
    "| Sets / logic            | `$\\forall x\\in\\mathbb R$`                             | $\\forall x\\in\\mathbb R$       |\n",
    "| Vectors / matrices      | `$\\mathbf v,\\; \\begin{bmatrix}1&0\\\\0&1\\end{bmatrix}$` |                               |\n"
   ]
  },
  {
   "cell_type": "markdown",
   "metadata": {},
   "source": [
    "## 2. Single-variable calculus\n",
    "\n",
    "| Concept                           | Write |\n",
    "|-----------------------------------|-------|\n",
    "| Derivative (prime)                | `$f'(x) = \\frac{d}{dx}f(x)$` |\n",
    "| Derivative (Leibniz)              | `$\\displaystyle \\frac{dy}{dx} = \\lim_{\\Delta x\\to0}\\frac{\\Delta y}{\\Delta x}$` |\n",
    "| n-th derivative                   | `$\\frac{d^{n}y}{dx^{n}}$` |\n",
    "| Indefinite integral               | `$\\int f(x)\\,dx$` |\n",
    "| Definite integral                 | `$\\int_a^b f(x)\\,dx$` |\n",
    "| Fundamental Thm. of Calculus      | `$\\displaystyle \\frac{d}{dx}\\int_{a}^{x}f(t)\\,dt = f(x)$` |\n",
    "| Taylor series (about 0)           | `$f(x)=\\sum_{k=0}^{\\infty}\\frac{f^{(k)}(0)}{k!}x^{k}$` |\n",
    "| Limit                             | `$\\lim_{x\\to c} f(x)$` |\n"
   ]
  },
  {
   "cell_type": "markdown",
   "metadata": {},
   "source": [
    "## 3. Multivariable calculus\n",
    "\n",
    "| Concept                 | Write |\n",
    "|-------------------------|-------|\n",
    "| Gradient                | `$\\nabla f = \\left\\langle\\frac{\\partial f}{\\partial x},\\frac{\\partial f}{\\partial y},\\frac{\\partial f}{\\partial z}\\right\\rangle$` |\n",
    "| Divergence              | `$\\nabla\\!\\cdot\\!\\mathbf F$` |\n",
    "| Curl                    | `$\\nabla\\times\\mathbf F$` |\n",
    "| Laplacian               | `$\\nabla^{2}f = \\Delta f$` |\n",
    "| Multiple integral       | `$\\iiint_\\Omega g(x,y,z)\\,dV$` |\n",
    "| Line integral           | `$\\displaystyle \\int_{\\mathcal C}\\mathbf F\\!\\cdot d\\mathbf r$` |\n",
    "| Surface integral        | `$\\displaystyle \\iint_{S} \\mathbf F\\!\\cdot d\\mathbf S$` |\n",
    "| Jacobian matrix         | `$\\mathbf J_{ij} = \\frac{\\partial f_i}{\\partial x_j}$` |\n",
    "| Change-of-vars (2-D)    | `$\\displaystyle \\iint_{R} f(x,y)\\,dx\\,dy = \\iint_{R'} f\\bigl(x(u,v),y(u,v)\\bigr)\\left|\\frac{\\partial(x,y)}{\\partial(u,v)}\\right|du\\,dv$` |"
   ]
  },
  {
   "cell_type": "markdown",
   "metadata": {},
   "source": [
    "## 4. Linear algebra\n",
    "\n",
    "| Concept                         | Write |\n",
    "|---------------------------------|-------|\n",
    "| Column vector                   | `$\\mathbf v=\\begin{bmatrix}v_1\\\\v_2\\\\v_3\\end{bmatrix}$` |\n",
    "| Matrix                          | `$\\mathbf A=\\begin{bmatrix}a&b\\\\c&d\\end{bmatrix}$` |\n",
    "| Transpose                       | `$\\mathbf A^{\\mathsf T}$` |\n",
    "| Inverse                         | `$\\mathbf A^{-1}$` |\n",
    "| Determinant                     | `$\\det(\\mathbf A)$` |\n",
    "| Dot product                     | `$\\mathbf u\\cdot\\mathbf v = \\sum_{i}u_i v_i$` |\n",
    "| Cross product                   | `$\\mathbf u\\times\\mathbf v$` |\n",
    "| Eigenproblem                    | `$\\mathbf A\\mathbf v = \\lambda\\mathbf v$` |\n",
    "| Singular Value Decomposition    | `$\\mathbf A = \\mathbf U\\boldsymbol\\Sigma\\mathbf V^{\\mathsf T}$` |\n",
    "| Projection onto $\\mathbf u$     | `$\\operatorname{proj}_{\\mathbf u}\\mathbf v = \\frac{\\mathbf v\\cdot\\mathbf u}{\\mathbf u\\cdot\\mathbf u}\\mathbf u$` |"
   ]
  },
  {
   "cell_type": "markdown",
   "metadata": {},
   "source": [
    "## 5. Statistics & Probability\n",
    "\n",
    "| Concept            | Write |\n",
    "|--------------------|-------|\n",
    "| Expectation        | `$\\mathbb E[X] = \\sum_x x\\,p(x)$` |\n",
    "| Variance           | `$\\operatorname{Var}(X)=\\mathbb E[(X-\\mu)^2]$` |\n",
    "| Covariance         | `$\\operatorname{Cov}(X,Y)=\\mathbb E[(X-\\mu_X)(Y-\\mu_Y)]$` |\n",
    "| Gaussian pdf       | `$\\displaystyle f(x)=\\frac{1}{\\sqrt{2\\pi\\sigma^2}} e^{-\\frac{(x-\\mu)^2}{2\\sigma^2}}$` |\n",
    "| Bernoulli pmf      | `$p(x)=p^{\\,x}(1-p)^{1-x},\\; x\\in\\{0,1\\}$` |\n",
    "| Poisson pmf        | `$P(X=k)=\\dfrac{\\lambda^{k}e^{-\\lambda}}{k!}$` |\n",
    "| CDF                | `$\\displaystyle F_X(x)=P(X\\le x)=\\int_{-\\infty}^{x}f(t)\\,dt$` |\n",
    "| Probability        | `$P(A)$` |\n",
    "| Conditional prob.  | `$P(A\\mid B)=\\dfrac{P(A\\cap B)}{P(B)}$` |\n",
    "| Bayes’ rule        | `$P(A\\mid B)=\\dfrac{P(B\\mid A)P(A)}{P(B)}$` |\n",
    "| Law of Large Numbers| `$\\bar X_n\\xrightarrow{a.s.}\\mu$` |"
   ]
  },
  {
   "cell_type": "markdown",
   "metadata": {
    "vscode": {
     "languageId": "plaintext"
    }
   },
   "source": [
    "## 6. Machine Learning essentials\n",
    "\n",
    "| Concept                    | Write |\n",
    "|----------------------------|-------|\n",
    "| Linear regression model    | `$\\hat y = \\mathbf w^{\\mathsf T}\\mathbf x + b$` |\n",
    "| MSE loss                   | `$\\mathcal L = \\frac{1}{n}\\sum_{i=1}^{n}(\\hat y_i - y_i)^{2}$` |\n",
    "| Cross-entropy loss         | `$\\mathcal L = -\\sum_{i=1}^{n} y_i \\log \\hat y_i$` |\n",
    "| Softmax                    | `$\\sigma(\\mathbf z)_j=\\frac{e^{z_j}}{\\sum_k e^{z_k}}$` |\n",
    "| Logistic sigmoid           | `$\\sigma(z)=\\frac{1}{1+e^{-z}}$` |\n",
    "| Gradient descent update    | `$\\theta \\leftarrow \\theta - \\eta\\,\\nabla_{\\!\\theta}\\mathcal L$` |\n",
    "| Back-prop (chain rule)     | `$\\dfrac{\\partial\\mathcal L}{\\partial\\mathbf W} = \\dfrac{\\partial\\mathcal L}{\\partial\\mathbf Z}\\dfrac{\\partial\\mathbf Z}{\\partial\\mathbf W}$` |\n",
    "| Batch-norm transform       | `$\\hat x=\\frac{x-\\mu_B}{\\sqrt{\\sigma_B^{2}+\\varepsilon}}$` |\n",
    "| Attention weights          | `$\\operatorname{softmax}\\!\\bigl(\\frac{\\mathbf Q\\mathbf K^{\\mathsf T}}{\\sqrt{d_k}}\\bigr)$` |\n",
    "| KL divergence              | `$\\operatorname{KL}(P\\;\\|\\;Q) =\\sum_x P(x)\\log\\dfrac{P(x)}{Q(x)}$` |\n"
   ]
  },
  {
   "cell_type": "markdown",
   "metadata": {
    "vscode": {
     "languageId": "plaintext"
    }
   },
   "source": [
    "## 7. Quick syntax reminders\n",
    "\n",
    "* **Escape underscores** in plain text names (e.g. `$\\text{my\\_var}$`), otherwise LaTeX treats `_` as subscript.  \n",
    "* `\\displaystyle` forces display-style sizing inside inline math if something looks cramped—handy for large fractions or big integrals.  \n",
    "* For bold symbols use `\\mathbf{A}`, `\\boldsymbol{\\theta}` or MathJax’s `\\bm`.  \n",
    "* Spaces: `\\,` tiny, `\\;` medium, `\\quad` wide.  \n",
    "  Example: ``$P(A\\mid B)\\;=\\;\\frac{P(A\\cap B)}{P(B)}$``.  \n",
    "* Inline code block → backtick-dollar-TeX-dollar-backtick (remember to escape backticks in fenced Markdown).  "
   ]
  }
 ],
 "metadata": {
  "kernelspec": {
   "display_name": ".venv",
   "language": "python",
   "name": "python3"
  },
  "language_info": {
   "name": "python",
   "version": "3.11.11"
  }
 },
 "nbformat": 4,
 "nbformat_minor": 2
}
